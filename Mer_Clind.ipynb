{
 "cells": [
  {
   "cell_type": "code",
   "execution_count": 1,
   "metadata": {},
   "outputs": [],
   "source": [
    "# Importar librerías\n",
    "import pandas as pd\n",
    "import os\n",
    "\n",
    "# Establecer directorio de trabajo\n",
    "os.chdir(\"/Users/adrianamedrano/Documents/Ariana/Residencias/PrototipoResidencias/DataSets\")\n",
    "\n",
    "# Leer archivos CSV\n",
    "df_clin = pd.read_csv('Clin.txt', encoding='latin1')\n",
    "df_clind = pd.read_csv('Clind.txt', encoding='latin1')\n",
    "\n",
    "# Mergear dataframes por campo Nummov \n",
    "df_clind = pd.merge(df_clind, df_clin[['Nncre','Fecncre','Estado']],\n",
    "                    on='Nncre', \n",
    "                    how='left',\n",
    "                    suffixes=('','_Clin'))\n",
    "\n",
    "# Filtrar por Estado = 'yes'\n",
    "df_clind = df_clind[df_clind['Estado_Clin'] == 'yes'][['Claart', 'Fecncre', 'Cant']]"
   ]
  },
  {
   "cell_type": "code",
   "execution_count": 2,
   "metadata": {},
   "outputs": [],
   "source": [
    "# Guardar dataframe\n",
    "df_clind.to_csv('/Users/adrianamedrano/Documents/Ariana/Residencias/PrototipoResidencias/DataSets_Codigo/Mer_Clind.txt', index=False, encoding=\"latin1\")"
   ]
  }
 ],
 "metadata": {
  "kernelspec": {
   "display_name": "Python (base)",
   "language": "python",
   "name": "base"
  },
  "language_info": {
   "codemirror_mode": {
    "name": "ipython",
    "version": 3
   },
   "file_extension": ".py",
   "mimetype": "text/x-python",
   "name": "python",
   "nbconvert_exporter": "python",
   "pygments_lexer": "ipython3",
   "version": "3.9.16"
  }
 },
 "nbformat": 4,
 "nbformat_minor": 2
}
