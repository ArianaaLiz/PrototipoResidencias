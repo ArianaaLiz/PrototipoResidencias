{
 "cells": [
  {
   "cell_type": "code",
   "execution_count": 1,
   "metadata": {},
   "outputs": [],
   "source": [
    "# Importar librerías\n",
    "import pandas as pd\n",
    "import os\n",
    "\n",
    "# Establecer directorio de trabajo\n",
    "os.chdir(\"/Users/adrianamedrano/Documents/Ariana/Residencias/PrototipoResidencias/DataSets\")\n",
    "\n",
    "# Leer archivos CSV\n",
    "df_clie = pd.read_csv('clie.txt', encoding='latin1')\n",
    "df_clied = pd.read_csv('clied.txt', encoding='latin1')\n",
    "\n",
    "# Mergear dataframes por campo Nummov \n",
    "df_clied = pd.merge(df_clied, df_clie[['Nummov','Fecncre','Estado']],\n",
    "                    on='Nummov', \n",
    "                    how='left',\n",
    "                    suffixes=('','_clie'))\n",
    "\n",
    "# Filtrar por Estado = 'yes'\n",
    "df_clied = df_clied[df_clied['Estado_clie'] == 'yes'][['Claart', 'Fecncre', 'Cant']]"
   ]
  },
  {
   "cell_type": "code",
   "execution_count": 2,
   "metadata": {},
   "outputs": [],
   "source": [
    "# Guardar dataframe \n",
    "df_clied.to_csv('/Users/adrianamedrano/Documents/Ariana/Residencias/PrototipoResidencias/DataSets_Codigo/Mer_clied.txt', index=False, encoding=\"latin1\")"
   ]
  }
 ],
 "metadata": {
  "kernelspec": {
   "display_name": "Python (base)",
   "language": "python",
   "name": "base"
  },
  "language_info": {
   "codemirror_mode": {
    "name": "ipython",
    "version": 3
   },
   "file_extension": ".py",
   "mimetype": "text/x-python",
   "name": "python",
   "nbconvert_exporter": "python",
   "pygments_lexer": "ipython3",
   "version": "3.9.16"
  },
  "orig_nbformat": 4
 },
 "nbformat": 4,
 "nbformat_minor": 2
}
