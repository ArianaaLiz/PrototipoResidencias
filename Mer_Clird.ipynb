{
 "cells": [
  {
   "cell_type": "code",
   "execution_count": 1,
   "metadata": {},
   "outputs": [
    {
     "name": "stdout",
     "output_type": "stream",
     "text": [
      "           Claart    Fecrem  Cant   Clacli  Clatipcli\n",
      "0       08ACOMAVT  31/08/20   1.0  MRS2043          0\n",
      "1        08ACOMBI  31/08/20   1.0  MRS2043          0\n",
      "2      08ACOMM114  31/08/20   1.0  MRS2043          0\n",
      "3       08ACOMRED  31/08/20   1.0  MRS2043          0\n",
      "4       08TUBA114  31/08/20   1.0  MRS2043          0\n",
      "...           ...       ...   ...      ...        ...\n",
      "97798     01BLO10  27/02/24  13.0   PUBGEN          0\n",
      "97799    08TUE316  27/02/24   8.0   PUBGEN          0\n",
      "97800  06GRAPG114  27/02/24   1.0   PUBGEN          0\n",
      "97801     06GRAPG  27/02/24   1.0   PUBGEN          0\n",
      "97802    06ALAG16  27/02/24   2.0   PUBGEN          0\n",
      "\n",
      "[94102 rows x 5 columns]\n"
     ]
    }
   ],
   "source": [
    "# Importar librerías\n",
    "import pandas as pd\n",
    "import os\n",
    "\n",
    "# Establecer directorio de trabajo\n",
    "os.chdir(\"/Users/adrianamedrano/Documents/Ariana/Residencias/PrototipoResidencias/DataSets\")\n",
    "\n",
    "# Leer archivos CSV\n",
    "df_clird = pd.read_csv('Clird.txt', encoding='latin1')\n",
    "df_clir = pd.read_csv('Clir.txt', encoding='latin1')\n",
    "df_clientes = pd.read_csv('Clientes.txt', encoding=\"latin1\")\n",
    "\n",
    "# Mergear dataframes por campo Numrem \n",
    "df_clird = pd.merge(df_clird, df_clir[['Numrem','Fecrem','Estado', 'Clacli']],\n",
    "                    on='Numrem',\n",
    "                    how='left',\n",
    "                    suffixes=('', '_Clir'))\n",
    "\n",
    "# Mergear con el dataframe df_clientes por campo Clacli\n",
    "df_clird = pd.merge(df_clird, df_clientes[['Clacli', 'Clatipcli']],\n",
    "                    left_on='Clacli',\n",
    "                    right_on='Clacli',\n",
    "                    how='left')\n",
    "\n",
    "# Filtrar por Estado = 'yes'\n",
    "df_clird = df_clird[df_clird['Estado_Clir'] == 'yes'][['Claart', 'Fecrem', 'Cant', 'Clacli', 'Clatipcli']]\n",
    "df_clird\n",
    "\n",
    "#Cambiar el fromato de fecha a DD-MM-AAAA\n",
    "df_clird['Fecrem'] = pd.to_datetime(df_clird['Fecrem'], errors='coerce')\n",
    "df_clird[\"Fecrem\"] = df_clird[\"Fecrem\"].dt.strftime(\"%d/%m/%y\")\n",
    "print(df_clird)"
   ]
  },
  {
   "cell_type": "code",
   "execution_count": 2,
   "metadata": {},
   "outputs": [],
   "source": [
    "#condicion = df_clird['Clatipcli'].isin([4, 5, 8])\n",
    "#registros_eliminados = df_clird[condicion].copy()\n",
    "#df_clird = df_clird[~condicion]  \n",
    "#print(\"Registros eliminados:\")\n",
    "#registros_eliminados"
   ]
  },
  {
   "cell_type": "code",
   "execution_count": 5,
   "metadata": {},
   "outputs": [],
   "source": [
    "# Guardar dataframe \n",
    "df_clird.to_csv('/Users/adrianamedrano/Documents/Ariana/Residencias/PrototipoResidencias/DataSets_Codigo/Mer_Clird.txt', index=False, encoding=\"latin1\")"
   ]
  }
 ],
 "metadata": {
  "kernelspec": {
   "display_name": "Python (base)",
   "language": "python",
   "name": "base"
  },
  "language_info": {
   "codemirror_mode": {
    "name": "ipython",
    "version": 3
   },
   "file_extension": ".py",
   "mimetype": "text/x-python",
   "name": "python",
   "nbconvert_exporter": "python",
   "pygments_lexer": "ipython3",
   "version": "3.9.16"
  },
  "orig_nbformat": 4
 },
 "nbformat": 4,
 "nbformat_minor": 2
}
