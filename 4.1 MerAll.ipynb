{
 "cells": [
  {
   "cell_type": "code",
   "execution_count": 1,
   "metadata": {},
   "outputs": [],
   "source": [
    "# Importar librerías\n",
    "import pandas as pd\n",
    "import os\n",
    "\n",
    "# Establecer directorio de trabajo\n",
    "os.chdir(\"/Users/adrianamedrano/Documents/Ariana/Residencias/PrototipoResidencias/DataSets_Codigo\")\n",
    "\n",
    "# Leer archivos CSV procesados\n",
    "df_clifd = pd.read_csv('Mer_Clifd.txt', encoding=\"latin1\")\n",
    "df_clird = pd.read_csv('Mer_Clird.txt', encoding='latin1')\n",
    "df_clied = pd.read_csv('Mer_clied.txt', encoding='latin1')  \n",
    "df_clifad = pd.read_csv('Mer_Clifad.txt', encoding='latin1')\n",
    "df_clind = pd.read_csv('Mer_Clind.txt', encoding='latin1')\n",
    "\n",
    "# Cambiar directorio de trabajo\n",
    "os.chdir(\"/Users/adrianamedrano/Documents/Ariana/Residencias/PrototipoResidencias/DataSets\")\n",
    "\n",
    "# Leer archivos CSV originales\n",
    "df_articulos = pd.read_csv('Articulos.txt', encoding='latin1')\n",
    "df_profd = pd.read_csv('Profd.txt', encoding=\"latin1\")\n",
    "df_prof = pd.read_csv('Prof.txt', encoding=\"latin1\")"
   ]
  },
  {
   "cell_type": "code",
   "execution_count": 2,
   "metadata": {},
   "outputs": [],
   "source": [
    "# Concatenar DataSets procesados\n",
    "df_merged = pd.concat([df_clifd, df_clird, df_clied, df_clifad]) \n",
    "\n",
    "# Llenar fecha y eliminar columnas redundantes\n",
    "df_merged['Fec'] = df_merged['Fecfac'].fillna(df_merged['Fecrem']).fillna(df_merged['Fecncre'])\n",
    "df_merged.drop(['Fecfac', 'Fecrem', 'Fecncre'], axis=1, inplace=True)"
   ]
  },
  {
   "cell_type": "code",
   "execution_count": 3,
   "metadata": {},
   "outputs": [],
   "source": [
    "# Convertir fecha a datetime\n",
    "df_merged['Fec'] = pd.to_datetime(df_merged['Fec'], format=\"%d/%m/%y\")\n",
    "\n",
    "# Filtrar por fecha de referencia \n",
    "fecha_reciente = df_merged['Fec'].max()\n",
    "fecha_referencia = fecha_reciente - pd.Timedelta(days=30)\n",
    "df_filtrado = df_merged[df_merged['Fec'] >= fecha_referencia].copy()\n",
    "\n",
    "# Formatear fecha\n",
    "df_filtrado['Fec'] = df_filtrado['Fec'].dt.strftime('%d/%m/%y')"
   ]
  },
  {
   "cell_type": "code",
   "execution_count": 4,
   "metadata": {},
   "outputs": [],
   "source": [
    "# Agrupar y sumar cantidad\n",
    "df_cant = df_filtrado.groupby('Claart')['Cant'].sum().reset_index()\n",
    "\n",
    "# Contar días únicos\n",
    "df_dias = df_filtrado.groupby('Claart')['Fec'].nunique().reset_index()\n",
    "df_dias = df_dias.rename(columns={'Fec': 'Dias_Totales'})\n",
    "\n",
    "# Unir dataframes\n",
    "df_merall = df_cant.merge(df_dias, on='Claart')"
   ]
  },
  {
   "cell_type": "code",
   "execution_count": 5,
   "metadata": {},
   "outputs": [],
   "source": [
    "# Obtener proveedor de los articulos\n",
    "df_merged = df_profd.groupby('Claart')['Numfac'].max().reset_index()\n",
    "df_merged = pd.merge(df_merged, df_profd, on=['Claart', 'Numfac'], how='left')\n",
    "df_result = pd.merge(df_merged, df_prof, on='Numfac', how='left')[['Claart', 'Clapro']]\n",
    "df_final = pd.merge(df_merall, df_result, on='Claart', how='left')"
   ]
  },
  {
   "cell_type": "code",
   "execution_count": 6,
   "metadata": {},
   "outputs": [],
   "source": [
    "# Filtrar por especial = 'no'\n",
    "df_final = pd.merge(df_final, df_articulos[['Claart', 'especial']], how='left', on='Claart')\n",
    "df_merall = df_final.loc[df_final['especial'] == 'no'][['Claart', 'Cant', 'Dias_Totales', 'Clapro']]"
   ]
  },
  {
   "cell_type": "code",
   "execution_count": 7,
   "metadata": {},
   "outputs": [],
   "source": [
    "# Convertir fecha a datetime\n",
    "df_clind['Fecncre'] = pd.to_datetime(df_clind['Fecncre'], format=\"%d/%m/%y\")\n",
    "\n",
    "# Filtrar por fecha de referencia (DataSet Clind)\n",
    "df_clind_filtrado = df_clind[df_clind['Fecncre'] >= fecha_referencia].copy()\n",
    "\n",
    "# Formatear fecha\n",
    "df_clind_filtrado['Fecncre'] = df_clind_filtrado['Fecncre'].dt.strftime('%d/%m/%y')\n",
    "\n",
    "# Agrupar y sumar cantidad (DataSet Clind)\n",
    "df_cant = df_clind_filtrado.groupby('Claart')['Cant'].sum().reset_index()\n",
    "\n",
    "# Filtrar por especial = 'no' (DataSet Clind)\n",
    "df_final = pd.merge(df_cant, df_articulos[['Claart', 'especial']], how='left', on='Claart')\n",
    "df_clind = df_final.loc[df_final['especial'] == 'no'][['Claart', 'Cant']]"
   ]
  },
  {
   "cell_type": "code",
   "execution_count": 8,
   "metadata": {},
   "outputs": [],
   "source": [
    "# Restar cantidad de Clind a la concatenación de Clifd, Clird, clied y Clifad y Clind\n",
    "df_merall = pd.merge(df_merall, df_clind[['Claart', 'Cant']], on='Claart', how='left')\n",
    "df_merall['Cant_y'] = df_merall['Cant_y'].fillna(0)\n",
    "df_merall['Cant'] = df_merall['Cant_x'] - df_merall['Cant_y']\n",
    "df_merall = df_merall.drop(['Cant_x', 'Cant_y'], axis=1)\n",
    "df_merall = df_merall[['Claart', 'Cant', 'Dias_Totales', 'Clapro']]"
   ]
  },
  {
   "cell_type": "code",
   "execution_count": 9,
   "metadata": {},
   "outputs": [],
   "source": [
    "# Guardar dataframe\n",
    "df_merall.to_csv('/Users/adrianamedrano/Documents/Ariana/Residencias/PrototipoResidencias/DataSets_Codigo/MerAll.txt', index=False, encoding=\"latin1\")"
   ]
  }
 ],
 "metadata": {
  "kernelspec": {
   "display_name": "Python (base)",
   "language": "python",
   "name": "base"
  },
  "language_info": {
   "codemirror_mode": {
    "name": "ipython",
    "version": 3
   },
   "file_extension": ".py",
   "mimetype": "text/x-python",
   "name": "python",
   "nbconvert_exporter": "python",
   "pygments_lexer": "ipython3",
   "version": "3.9.16"
  }
 },
 "nbformat": 4,
 "nbformat_minor": 2
}
