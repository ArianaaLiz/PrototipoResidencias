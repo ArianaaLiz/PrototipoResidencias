{
 "cells": [
  {
   "cell_type": "code",
   "execution_count": 1,
   "metadata": {},
   "outputs": [],
   "source": [
    "# Importar librerías\n",
    "import pandas as pd\n",
    "import os\n",
    "\n",
    "# Establecer directorio de trabajo\n",
    "os.chdir(\"/Users/adrianamedrano/Documents/Ariana/Residencias/PrototipoResidencias/DataSets\")\n",
    "\n",
    "# Leer archivo CSV de clientes\n",
    "df_clientes = pd.read_csv(\"Clientes.txt\", encoding=\"latin1\") \n",
    "\n",
    "# Convertir columna de fecha a datetime\n",
    "df_clientes['Fecultven'] = pd.to_datetime(df_clientes['Fecultven'], format=\"%d/%m/%y\")\n",
    "\n",
    "# Separar fecha última venta en día, mes y año\n",
    "df_clientes.insert(df_clientes.columns.get_loc('Fecultven') + 1, 'FuvDia', df_clientes['Fecultven'].dt.day)\n",
    "df_clientes.insert(df_clientes.columns.get_loc('FuvDia') + 1, 'FuvMes', df_clientes['Fecultven'].dt.month)\n",
    "df_clientes.insert(df_clientes.columns.get_loc('FuvMes') + 1, 'FuvAño', df_clientes['Fecultven'].dt.year)\n",
    "\n",
    "# Convertir fecha última venta a string\n",
    "df_clientes[\"Fecultven\"] = df_clientes[\"Fecultven\"].dt.strftime(\"%d/%m/%y\")"
   ]
  },
  {
   "cell_type": "code",
   "execution_count": 2,
   "metadata": {},
   "outputs": [],
   "source": [
    "# Guardar archivo CSV \n",
    "df_clientes.to_csv('/Users/adrianamedrano/Documents/Ariana/Residencias/PrototipoResidencias/DataSets_Codigo/Clientes.txt', index=False, encoding=\"latin1\")"
   ]
  }
 ],
 "metadata": {
  "kernelspec": {
   "display_name": "Python (base)",
   "language": "python",
   "name": "base"
  },
  "language_info": {
   "codemirror_mode": {
    "name": "ipython",
    "version": 3
   },
   "file_extension": ".py",
   "mimetype": "text/x-python",
   "name": "python",
   "nbconvert_exporter": "python",
   "pygments_lexer": "ipython3",
   "version": "3.9.16"
  },
  "orig_nbformat": 4
 },
 "nbformat": 4,
 "nbformat_minor": 2
}
