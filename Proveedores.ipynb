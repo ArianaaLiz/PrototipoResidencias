{
 "cells": [
  {
   "cell_type": "code",
   "execution_count": 1,
   "metadata": {},
   "outputs": [],
   "source": [
    "# Importar librerías\n",
    "import pandas as pd\n",
    "import os\n",
    "\n",
    "# Establecer directorio de trabajo\n",
    "os.chdir('/Users/adrianamedrano/Documents/Ariana/Residencias/PrototipoResidencias/DataSets')\n",
    "\n",
    "# Leer archivos CSV \n",
    "df_proveedores = pd.read_csv(\"Proveedores.txt\", encoding=\"latin1\")\n",
    "df_prof = pd.read_csv(\"Prof.txt\", encoding=\"latin1\")\n",
    "\n",
    "# Convertir columnas de fecha a datetime\n",
    "df_prof[\"Fecfac\"] = pd.to_datetime(df_prof[\"Fecfac\"], format=\"%d/%m/%y\")\n",
    "df_proveedores[\"Fecultcom\"] = pd.to_datetime(df_proveedores[\"Fecultcom\"], format=\"%d/%m/%y\")\n",
    "\n",
    "# Obtener fecha máxima de factura por proveedor\n",
    "fecha_mas_reciente = df_prof.groupby(\"Clapro\")[\"Fecfac\"].max().reset_index()\n",
    "\n",
    "# Unir dataframes y llenar fecha última compra con fecha máxima\n",
    "df_proveedores = df_proveedores.merge(fecha_mas_reciente, on=\"Clapro\", how=\"left\")\n",
    "df_proveedores[\"Fecultcom\"].fillna(df_proveedores[\"Fecfac\"], inplace=True) \n",
    "\n",
    "# Eliminar columna utilizada para llenado\n",
    "df_proveedores.drop(\"Fecfac\", axis=1, inplace=True)\n",
    "\n",
    "# Formatear fechas a string\n",
    "df_proveedores[\"Fecultcom\"] = df_proveedores[\"Fecultcom\"].dt.strftime(\"%d/%m/%y\")\n",
    "df_prof[\"Fecfac\"] = df_prof[\"Fecfac\"].dt.strftime(\"%d/%m/%y\")\n",
    "\n",
    "# Eliminar filas con fecha nula\n",
    "df_proveedores = df_proveedores.dropna(subset=[\"Fecultcom\"])"
   ]
  },
  {
   "cell_type": "code",
   "execution_count": 2,
   "metadata": {},
   "outputs": [],
   "source": [
    "# Guardar dataframe\n",
    "df_proveedores.to_csv('/Users/adrianamedrano/Documents/Ariana/Residencias/PrototipoResidencias/DataSets_Codigo/Proveedores.txt', index=False, encoding=\"latin1\")"
   ]
  }
 ],
 "metadata": {
  "kernelspec": {
   "display_name": "Python (base)",
   "language": "python",
   "name": "base"
  },
  "language_info": {
   "codemirror_mode": {
    "name": "ipython",
    "version": 3
   },
   "file_extension": ".py",
   "mimetype": "text/x-python",
   "name": "python",
   "nbconvert_exporter": "python",
   "pygments_lexer": "ipython3",
   "version": "3.9.16"
  },
  "orig_nbformat": 4
 },
 "nbformat": 4,
 "nbformat_minor": 2
}
