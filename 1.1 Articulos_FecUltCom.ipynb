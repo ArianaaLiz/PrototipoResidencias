{
 "cells": [
  {
   "cell_type": "code",
   "execution_count": 5,
   "metadata": {},
   "outputs": [],
   "source": [
    "# Importar librerías\n",
    "import pandas as pd \n",
    "import os\n",
    "\n",
    "# Establecer directorio de trabajo\n",
    "os.chdir(\"/Users/adrianamedrano/Documents/Ariana/Residencias/PrototipoResidencias/DataSets\")\n",
    "\n",
    "# Leer archivos CSV en dataframes\n",
    "df_articulos = pd.read_csv(\"Articulos.txt\", encoding=\"latin1\")  \n",
    "df_profd = pd.read_csv(\"Profd.txt\", encoding=\"latin1\")\n",
    "df_prof = pd.read_csv(\"Prof.txt\", encoding=\"latin1\")\n",
    "\n",
    "# Unir dataframes por clave común \n",
    "df_merge = df_articulos.merge(df_profd, on=\"Claart\", how=\"left\").merge(df_prof, on=\"Numfac\", how=\"left\")\n",
    "\n",
    "# Obtener fecha máxima por articulo\n",
    "df_fecha_max = df_merge.groupby(\"Claart\")[\"Fecfac\"].max().reset_index() \n",
    "\n",
    "# Establecer indices\n",
    "df_articulos = df_articulos.set_index(\"Claart\")\n",
    "df_fecha_max = df_fecha_max.set_index(\"Claart\")\n",
    "\n",
    "# Llenar valores nulos en df_articulos con fecha máxima  \n",
    "df_articulos[\"FecUltCom\"] = df_articulos[\"FecUltCom\"].fillna(df_fecha_max[\"Fecfac\"])\n",
    "\n",
    "# Reestablecer indice a columna\n",
    "df_articulos = df_articulos.reset_index() \n",
    "\n",
    "# Llenar valores nulos restantes\n",
    "df_articulos[\"FecUltCom\"].fillna(\"27/07/16\", inplace=True) "
   ]
  },
  {
   "cell_type": "code",
   "execution_count": 8,
   "metadata": {},
   "outputs": [],
   "source": [
    "# Guardar dataframe\n",
    "df_articulos.to_csv(\"/Users/adrianamedrano/Documents/Ariana/Residencias/PrototipoResidencias/DataSets_Codigo/Articulos.txt\", index=False, encoding=\"latin1\")"
   ]
  }
 ],
 "metadata": {
  "kernelspec": {
   "display_name": "Python (base)",
   "language": "python",
   "name": "base"
  },
  "language_info": {
   "codemirror_mode": {
    "name": "ipython",
    "version": 3
   },
   "file_extension": ".py",
   "mimetype": "text/x-python",
   "name": "python",
   "nbconvert_exporter": "python",
   "pygments_lexer": "ipython3",
   "version": "3.9.16"
  },
  "orig_nbformat": 4
 },
 "nbformat": 4,
 "nbformat_minor": 2
}
