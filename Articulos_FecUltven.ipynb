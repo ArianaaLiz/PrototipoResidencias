{
 "cells": [
  {
   "cell_type": "code",
   "execution_count": 4,
   "metadata": {},
   "outputs": [],
   "source": [
    "# Importar librerías \n",
    "import pandas as pd\n",
    "import os\n",
    "\n",
    "# Definir función para parsear fechas\n",
    "def parse_date(date):\n",
    "    return pd.to_datetime(date, format='%d/%m/%y')\n",
    "\n",
    "# Establecer directorio de trabajo\n",
    "os.chdir(\"/Users/adrianamedrano/Documents/Ariana/Residencias/PrototipoResidencias/DataSets\")\n",
    "\n",
    "# Leer archivo CSV de artículos\n",
    "df_articulos = pd.read_csv('Articulos.txt', encoding='latin1')\n",
    "\n",
    "# Inicializar diccionario para almacenar últimas fechas \n",
    "fecha_max = {}  \n",
    "\n",
    "# Leer archivo CSV de movimientos por chunk para optimizar\n",
    "chunksize = 100000  \n",
    "for chunk in pd.read_csv('Movinv.txt', chunksize=chunksize, encoding='latin1', parse_dates=['Fecmovinv'], date_parser=parse_date, dtype={15: str}):\n",
    "    \n",
    "    # Filtrar chunk por tipos de movimiento relevantes\n",
    "    filtered_chunk = chunk[chunk['Tipmovinv'].isin([100, 102, 111])]\n",
    "    \n",
    "    # Obtener fecha máxima por código de artículo\n",
    "    df_fechas = filtered_chunk.groupby('Claart')['Fecmovinv'].max().to_dict()\n",
    "    \n",
    "    # Actualizar diccionario si fecha es más reciente\n",
    "    for k, v in df_fechas.items():\n",
    "        v_str = v.strftime('%d/%m/%y')\n",
    "        if k not in fecha_max or v_str > fecha_max[k]:\n",
    "            fecha_max[k] = v_str\n",
    "            \n",
    "# Asignar fecha máxima en dataframe de artículos\n",
    "df_articulos['FecUltven'] = df_articulos['Claart'].map(fecha_max)"
   ]
  },
  {
   "cell_type": "code",
   "execution_count": 5,
   "metadata": {},
   "outputs": [],
   "source": [
    "# Guardar dataframe\n",
    "df_articulos.to_csv('/Users/adrianamedrano/Documents/Ariana/Residencias/PrototipoResidencias/DataSets_Codigo/Articulos.txt', index=False, encoding=\"latin1\")"
   ]
  }
 ],
 "metadata": {
  "kernelspec": {
   "display_name": "Python (base)",
   "language": "python",
   "name": "base"
  },
  "language_info": {
   "codemirror_mode": {
    "name": "ipython",
    "version": 3
   },
   "file_extension": ".py",
   "mimetype": "text/x-python",
   "name": "python",
   "nbconvert_exporter": "python",
   "pygments_lexer": "ipython3",
   "version": "3.9.16"
  },
  "orig_nbformat": 4
 },
 "nbformat": 4,
 "nbformat_minor": 2
}
