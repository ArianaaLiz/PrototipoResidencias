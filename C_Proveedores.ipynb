{
 "cells": [
  {
   "cell_type": "code",
   "execution_count": 1,
   "metadata": {},
   "outputs": [],
   "source": [
    "# Importar librerías \n",
    "import pandas as pd\n",
    "import os\n",
    "\n",
    "# Establecer directorio de trabajo\n",
    "os.chdir(\"/Users/adrianamedrano/Documents/Ariana/Residencias/PrototipoResidencias/DataSets\")\n",
    "\n",
    "# Leer archivo CSV de proveedores\n",
    "df_proveedores = pd.read_csv(\"Proveedores.txt\", encoding=\"latin1\")\n",
    "\n",
    "# Convertir columna de fecha a datetime \n",
    "df_proveedores['Fecultcom'] = pd.to_datetime(df_proveedores['Fecultcom'], format=\"%d/%m/%y\")\n",
    "\n",
    "# Separar fecha última compra en día, mes y año\n",
    "df_proveedores.insert(df_proveedores.columns.get_loc('Fecultcom') + 1, 'FucDia', df_proveedores['Fecultcom'].dt.day)\n",
    "df_proveedores.insert(df_proveedores.columns.get_loc('FucDia') + 1, 'FucMes', df_proveedores['Fecultcom'].dt.month)\n",
    "df_proveedores.insert(df_proveedores.columns.get_loc('FucMes') + 1, 'FucAño', df_proveedores['Fecultcom'].dt.year)\n",
    "\n",
    "# Convertir fecha última compra a string\n",
    "df_proveedores[\"Fecultcom\"] = df_proveedores[\"Fecultcom\"].dt.strftime(\"%d/%m/%y\") "
   ]
  },
  {
   "cell_type": "code",
   "execution_count": 2,
   "metadata": {},
   "outputs": [],
   "source": [
    "# Guardar archivo CSV\n",
    "df_proveedores.to_csv('/Users/adrianamedrano/Documents/Ariana/Residencias/PrototipoResidencias/DataSets_Codigo/Proveedores.txt', index=False, encoding=\"latin1\")"
   ]
  }
 ],
 "metadata": {
  "kernelspec": {
   "display_name": "Python (base)",
   "language": "python",
   "name": "base"
  },
  "language_info": {
   "codemirror_mode": {
    "name": "ipython",
    "version": 3
   },
   "file_extension": ".py",
   "mimetype": "text/x-python",
   "name": "python",
   "nbconvert_exporter": "python",
   "pygments_lexer": "ipython3",
   "version": "3.9.16"
  },
  "orig_nbformat": 4
 },
 "nbformat": 4,
 "nbformat_minor": 2
}
