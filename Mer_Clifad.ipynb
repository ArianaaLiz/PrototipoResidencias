{
 "cells": [
  {
   "cell_type": "code",
   "execution_count": 4,
   "metadata": {},
   "outputs": [
    {
     "name": "stdout",
     "output_type": "stream",
     "text": [
      "          Claart    Fecfac   Cant   Clacli  Clatipcli\n",
      "0       01CEMBIG  09/03/20    8.0   AACP71          9\n",
      "1       01CEMBIG  09/03/20    2.0   AACP71          9\n",
      "2     01CEMCAZ50  31/08/20  230.0   LAGG91          8\n",
      "3     01CEMCAZ50  09/02/20   70.0   CAAL86          8\n",
      "4       06CLA212  29/08/20    5.0   GACE85          0\n",
      "...          ...       ...    ...      ...        ...\n",
      "8001    01CEMBIG  27/02/24    2.0  MRS5012          0\n",
      "8002     01VAR38  27/02/24   25.0  MRS5012          0\n",
      "8003     01ALREC  27/02/24   30.0  MRS1993          0\n",
      "8004   01EST1520  27/02/24    5.0  MRS1993          0\n",
      "8005       01CAL  27/02/24   10.0  MRS1993          0\n",
      "\n",
      "[7633 rows x 5 columns]\n"
     ]
    }
   ],
   "source": [
    "# Importar librerías \n",
    "import pandas as pd\n",
    "import os\n",
    "\n",
    "# Establecer directorio de trabajo\n",
    "os.chdir(\"/Users/adrianamedrano/Documents/Ariana/Residencias/PrototipoResidencias/DataSets\")\n",
    "\n",
    "# Leer archivos CSV\n",
    "df_clifa = pd.read_csv('Clifa.txt', encoding='latin1')\n",
    "df_clifad = pd.read_csv('Clifad.txt', encoding=\"latin1\")\n",
    "df_clientes = pd.read_csv('Clientes.txt', encoding=\"latin1\")\n",
    "\n",
    "# Mergear dataframes por campo Numfac\n",
    "df_clifad = pd.merge(df_clifad, df_clifa[['Numfac','Fecfac','Estado', 'Clacho', 'Clacli']], \n",
    "                     on='Numfac', \n",
    "                     how='left',\n",
    "                     suffixes=('', '_Clifa'))\n",
    "\n",
    "# Mergear con el dataframe df_clientes por campo Clacli\n",
    "df_clifad = pd.merge(df_clifad, df_clientes[['Clacli', 'Clatipcli']],\n",
    "                    left_on='Clacli',\n",
    "                    right_on='Clacli',\n",
    "                    how='left')\n",
    "\n",
    "# Filtrar por Estado = 'yes' \n",
    "df_clifad = df_clifad[(df_clifad['Estado_Clifa'] == 'yes')][['Claart', 'Fecfac', 'Cant', 'Clacli', 'Clatipcli']]\n",
    "df_clifad\n",
    "\n",
    "#Cambiar el fromato de fecha a DD-MM-AAAA\n",
    "df_clifad['Fecfac'] = pd.to_datetime(df_clifad['Fecfac'], errors='coerce')\n",
    "df_clifad[\"Fecfac\"] = df_clifad[\"Fecfac\"].dt.strftime(\"%d/%m/%y\")\n",
    "print(df_clifad)"
   ]
  },
  {
   "cell_type": "code",
   "execution_count": 2,
   "metadata": {},
   "outputs": [],
   "source": [
    "#condicion = df_clifad['Clatipcli'].isin([4, 5, 8])\n",
    "#registros_eliminados = df_clifad[condicion].copy()\n",
    "#df_clifad = df_clifad[~condicion] \n",
    "#print(\"Registros eliminados:\")\n",
    "#registros_eliminados"
   ]
  },
  {
   "cell_type": "code",
   "execution_count": 3,
   "metadata": {},
   "outputs": [],
   "source": [
    "# Guardar dataframe\n",
    "df_clifad.to_csv('/Users/adrianamedrano/Documents/Ariana/Residencias/PrototipoResidencias/DataSets_Codigo/Mer_Clifad.txt', index=False, encoding=\"latin1\")"
   ]
  }
 ],
 "metadata": {
  "kernelspec": {
   "display_name": "Python (base)",
   "language": "python",
   "name": "base"
  },
  "language_info": {
   "codemirror_mode": {
    "name": "ipython",
    "version": 3
   },
   "file_extension": ".py",
   "mimetype": "text/x-python",
   "name": "python",
   "nbconvert_exporter": "python",
   "pygments_lexer": "ipython3",
   "version": "3.9.16"
  }
 },
 "nbformat": 4,
 "nbformat_minor": 2
}
