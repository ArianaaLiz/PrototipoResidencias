{
 "cells": [
  {
   "cell_type": "code",
   "execution_count": 1,
   "metadata": {},
   "outputs": [],
   "source": [
    "# Importar librerías \n",
    "import pandas as pd\n",
    "import os\n",
    "\n",
    "# Establecer directorio de trabajo\n",
    "os.chdir(\"/Users/adrianamedrano/Documents/Ariana/Residencias/PrototipoResidencias/DataSets\")\n",
    "\n",
    "# Leer archivos CSV\n",
    "df_clifa = pd.read_csv('Clifa.txt', encoding='latin1')\n",
    "df_clifad = pd.read_csv('Clifad.txt', encoding=\"latin1\")\n",
    "\n",
    "# Mergear dataframes por campo Numfac\n",
    "df_clifad = pd.merge(df_clifad, df_clifa[['Numfac','Fecfac','Estado', 'Clacho']], \n",
    "                     on='Numfac', \n",
    "                     how='left',\n",
    "                     suffixes=('', '_Clifa'))\n",
    "\n",
    "# Filtrar por Estado = 'yes' \n",
    "df_clifad = df_clifad[(df_clifad['Estado_Clifa'] == 'yes')][['Claart', 'Fecfac', 'Cant']]"
   ]
  },
  {
   "cell_type": "code",
   "execution_count": 2,
   "metadata": {},
   "outputs": [],
   "source": [
    "# Guardar dataframe\n",
    "df_clifad.to_csv('/Users/adrianamedrano/Documents/Ariana/Residencias/PrototipoResidencias/DataSets_Codigo/Mer_Clifad.txt', index=False, encoding=\"latin1\")"
   ]
  }
 ],
 "metadata": {
  "kernelspec": {
   "display_name": "Python (base)",
   "language": "python",
   "name": "base"
  },
  "language_info": {
   "codemirror_mode": {
    "name": "ipython",
    "version": 3
   },
   "file_extension": ".py",
   "mimetype": "text/x-python",
   "name": "python",
   "nbconvert_exporter": "python",
   "pygments_lexer": "ipython3",
   "version": "3.9.16"
  }
 },
 "nbformat": 4,
 "nbformat_minor": 2
}
