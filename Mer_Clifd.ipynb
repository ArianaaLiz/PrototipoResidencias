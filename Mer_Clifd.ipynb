{
 "cells": [
  {
   "cell_type": "code",
   "execution_count": 1,
   "metadata": {},
   "outputs": [],
   "source": [
    "# Importar librerías\n",
    "import pandas as pd\n",
    "import os\n",
    "\n",
    "# Establecer directorio de trabajo  \n",
    "os.chdir(\"/Users/adrianamedrano/Documents/Ariana/Residencias/PrototipoResidencias/DataSets\")\n",
    "\n",
    "# Leer archivos CSV  \n",
    "df_clifd = pd.read_csv('Clifd.txt', encoding=\"latin1\")\n",
    "df_clif = pd.read_csv(\"Clif.txt\", encoding=\"latin1\", dtype={20: str, 34: str, 35: str, 37: str, 39: str})\n",
    "\n",
    "# Mergear dataframes por campo Numfac\n",
    "df_clifd = pd.merge(df_clifd, df_clif[['Numfac', 'Fecfac', 'Estado', 'Clacho']],\n",
    "                    on='Numfac',\n",
    "                    how='left', \n",
    "                    suffixes=('', '_Clif'))\n",
    "\n",
    "# Filtrar por Estado = 'yes' y Clacho nulo\n",
    "df_clifd = df_clifd[(df_clifd['Estado_Clif'] == 'yes') & (df_clifd['Clacho'].isnull())][['Claart', 'Fecfac', 'Cant']]"
   ]
  },
  {
   "cell_type": "code",
   "execution_count": 2,
   "metadata": {},
   "outputs": [],
   "source": [
    "# Guardar dataframe \n",
    "df_clifd.to_csv('/Users/adrianamedrano/Documents/Ariana/Residencias/PrototipoResidencias/DataSets_Codigo/Mer_Clifd.txt', index=False, encoding=\"latin1\")"
   ]
  }
 ],
 "metadata": {
  "kernelspec": {
   "display_name": "Python (base)",
   "language": "python",
   "name": "base"
  },
  "language_info": {
   "codemirror_mode": {
    "name": "ipython",
    "version": 3
   },
   "file_extension": ".py",
   "mimetype": "text/x-python",
   "name": "python",
   "nbconvert_exporter": "python",
   "pygments_lexer": "ipython3",
   "version": "3.9.16"
  },
  "orig_nbformat": 4
 },
 "nbformat": 4,
 "nbformat_minor": 2
}
