{
 "cells": [
  {
   "cell_type": "code",
   "execution_count": 6,
   "metadata": {},
   "outputs": [],
   "source": [
    "# Importar librerías necesarias\n",
    "import pandas as pd\n",
    "import numpy as np\n",
    "import os\n",
    "\n",
    "# Establecer el directorio de trabajo\n",
    "os.chdir(\"/Users/adrianamedrano/Documents/Ariana/Residencias/PrototipoResidencias/DataSets\")\n",
    "\n",
    "# Leer los archivos CSV en dataframes\n",
    "df_articulos = pd.read_csv('Articulos.txt', encoding='latin1')\n",
    "df_proveedores = pd.read_csv('Proveedores.txt', encoding='latin1')\n",
    "df_merall = pd.read_csv('/Users/adrianamedrano/Documents/Ariana/Residencias/PrototipoResidencias/DataSets_Codigo/MerAll.txt', encoding='latin1')\n",
    "\n",
    "# Combinar dataframes utilizando la columna 'Clapro' como clave en comun\n",
    "df_stock = pd.merge(df_merall, df_proveedores, how='inner', left_on='Clapro', right_on='Clapro')\n",
    "\n",
    "# Calcular variables Entrega Habitual & Consumo Promedio\n",
    "df_stock['Entrega_Habitual'] = (df_stock['Limcrepro'] + df_stock['Clazon']) / 2\n",
    "df_stock['Consumo_Promedio'] = df_stock['Cant'] / df_stock['Dias_Totales']"
   ]
  },
  {
   "cell_type": "code",
   "execution_count": 7,
   "metadata": {},
   "outputs": [],
   "source": [
    "# Calcular el Stock Mínimo\n",
    "df_stock['Stock Minimo'] = df_stock['Entrega_Habitual'] * df_stock['Consumo_Promedio']\n",
    "\n",
    "# Seleccionar columnas relevantes y renombrar variable Entrega con Retraso\n",
    "df_stock = df_stock [['Claart', 'Cant', 'Dias_Totales', 'Consumo_Promedio', 'Entrega_Habitual', 'Stock Minimo', 'Clazon']]\n",
    "df_stock = df_stock.rename(columns={'Clazon': 'Entrega_Retraso'})"
   ]
  },
  {
   "cell_type": "code",
   "execution_count": 8,
   "metadata": {},
   "outputs": [],
   "source": [
    "# Calcular el Stock Maximo\n",
    "df_stock['Stock Maximo'] = df_stock['Entrega_Habitual'] * df_stock['Consumo_Promedio'] + df_stock['Stock Minimo']"
   ]
  },
  {
   "cell_type": "code",
   "execution_count": 9,
   "metadata": {},
   "outputs": [],
   "source": [
    "# Calcular el Stock Mínimo de Seguridad\n",
    "df_stock['Stock de Seguridad'] = (df_stock['Entrega_Retraso'] - df_stock['Entrega_Habitual']) * df_stock['Consumo_Promedio']\n",
    "df_stock = df_stock[['Claart', 'Stock Minimo', 'Stock Maximo', 'Stock de Seguridad']]"
   ]
  },
  {
   "cell_type": "code",
   "execution_count": 10,
   "metadata": {},
   "outputs": [],
   "source": [
    "# Agregar columnas de Existencia y Descripción de Artículo\n",
    "df_stock = df_stock.merge(df_articulos[['Claart', 'Ex', 'Desart']], on='Claart', how='left')\n",
    "df_stock = df_stock.rename(columns={'Ex': 'Existencia', 'Desart': 'Descripción'})\n",
    "df_stock = df_stock [['Claart', 'Descripción', 'Existencia', 'Stock Minimo', 'Stock Maximo', 'Stock de Seguridad']]"
   ]
  },
  {
   "cell_type": "code",
   "execution_count": 11,
   "metadata": {},
   "outputs": [],
   "source": [
    "# Agregar y calcular Recomendación\n",
    "df_stock['Recomendacion'] = np.where(df_stock['Existencia'] < df_stock['Stock Minimo'],\n",
    "                                     df_stock['Stock Minimo'] - df_stock['Existencia'],\n",
    "                                     np.where(df_stock['Existencia'] > df_stock['Stock Maximo'],\n",
    "                                              df_stock['Stock Maximo'] - df_stock['Existencia'],\n",
    "                                              0))"
   ]
  },
  {
   "cell_type": "code",
   "execution_count": 7,
   "metadata": {},
   "outputs": [],
   "source": [
    "# Guardar dataframe\n",
    "df_stock.to_csv('/Users/adrianamedrano/Documents/Ariana/Residencias/PrototipoResidencias/DataSets_Codigo/Stock.txt', index=False, encoding=\"latin1\")"
   ]
  }
 ],
 "metadata": {
  "kernelspec": {
   "display_name": "Python 3",
   "language": "python",
   "name": "python3"
  },
  "language_info": {
   "codemirror_mode": {
    "name": "ipython",
    "version": 3
   },
   "file_extension": ".py",
   "mimetype": "text/x-python",
   "name": "python",
   "nbconvert_exporter": "python",
   "pygments_lexer": "ipython3",
   "version": "3.12.1"
  }
 },
 "nbformat": 4,
 "nbformat_minor": 2
}
