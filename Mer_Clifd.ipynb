{
 "cells": [
  {
   "cell_type": "code",
   "execution_count": 2,
   "metadata": {},
   "outputs": [
    {
     "name": "stderr",
     "output_type": "stream",
     "text": [
      "/var/folders/cn/s8xbm9k519n2w4bqvq70nvmr0000gn/T/ipykernel_2195/3861450292.py:10: DtypeWarning: Columns (50) have mixed types. Specify dtype option on import or set low_memory=False.\n",
      "  df_clif = pd.read_csv(\"Clif.txt\", encoding=\"latin1\", dtype={20: str, 34: str, 35: str, 37: str, 39: str})\n"
     ]
    },
    {
     "name": "stdout",
     "output_type": "stream",
     "text": [
      "             Claart    Fecfac   Cant   Clacli  Clatipcli    Numfac\n",
      "0        01CEMCAZ50  09/01/20   40.0    PSP14        0.0  ZI030471\n",
      "1        01CEMCAZ50  31/08/20  100.0   RELP55        1.0  ZI030430\n",
      "6        01CEMCAZ50  31/08/20  100.0   RELP55        1.0  ZI030435\n",
      "7           01SON40  31/08/20   18.0   RELP55        1.0  ZI030435\n",
      "8             GTRAS  31/08/20    1.0   RELP55        1.0  ZI030435\n",
      "...             ...       ...    ...      ...        ...       ...\n",
      "326125    03TAB310T  27/02/24   81.6  RCS1606        0.0  ZI106068\n",
      "326126  03ANG316112  27/02/24   25.5  RCS1606        0.0  ZI106068\n",
      "326127   03ANG18112  27/02/24   11.8  RCS1606        0.0  ZI106068\n",
      "326128    04HBISTU1  27/02/24    3.0  RCS1606        0.0  ZI106068\n",
      "326129   03ANG18114  27/02/24    9.6  RCS1606        0.0  ZI106068\n",
      "\n",
      "[306395 rows x 6 columns]\n"
     ]
    }
   ],
   "source": [
    "# Importar librerías\n",
    "import pandas as pd\n",
    "import os\n",
    "\n",
    "# Establecer directorio de trabajo  \n",
    "os.chdir(\"/Users/adrianamedrano/Documents/Ariana/Residencias/PrototipoResidencias/DataSets\")\n",
    "\n",
    "# Leer archivos CSV  \n",
    "df_clifd = pd.read_csv('Clifd.txt', encoding=\"latin1\")\n",
    "df_clif = pd.read_csv(\"Clif.txt\", encoding=\"latin1\", dtype={20: str, 34: str, 35: str, 37: str, 39: str})\n",
    "df_clientes = pd.read_csv('Clientes.txt', encoding=\"latin1\")\n",
    "\n",
    "# Mergear dataframes por campo Numfac\n",
    "df_clifd = pd.merge(df_clifd, df_clif[['Numfac', 'Fecfac', 'Estado', 'Clacho', 'Clacli']],\n",
    "                    on='Numfac',\n",
    "                    how='left', \n",
    "                    suffixes=('', '_Clif'))\n",
    "\n",
    "# Mergear con el dataframe df_clientes por campo Clacli\n",
    "df_clifd = pd.merge(df_clifd, df_clientes[['Clacli', 'Clatipcli']],\n",
    "                    left_on='Clacli',\n",
    "                    right_on='Clacli',\n",
    "                    how='left')\n",
    "\n",
    "# Filtrar por Estado = 'yes' y Clacho nulo\n",
    "df_clifd = df_clifd[(df_clifd['Estado_Clif'] == 'yes') & (df_clifd['Clacho'].isnull())][['Claart', 'Fecfac', 'Cant', 'Clacli', 'Clatipcli','Numfac']]\n",
    "df_clifd\n",
    "\n",
    "#Cambiar el fromato de fecha a DD-MM-AAAA\n",
    "df_clifd['Fecfac'] = pd.to_datetime(df_clifd['Fecfac'], errors='coerce')\n",
    "df_clifd[\"Fecfac\"] = df_clifd[\"Fecfac\"].dt.strftime(\"%d/%m/%y\")\n",
    "print(df_clifd)"
   ]
  },
  {
   "cell_type": "code",
   "execution_count": 3,
   "metadata": {},
   "outputs": [],
   "source": [
    "#condicion = df_clifd['Clatipcli'].isin([4, 5, 8])\n",
    "#registros_eliminados = df_clifd[condicion].copy()\n",
    "#df_clifd = df_clifd[~condicion] \n",
    "#print(\"Registros eliminados:\")\n",
    "#registros_eliminados"
   ]
  },
  {
   "cell_type": "code",
   "execution_count": 2,
   "metadata": {},
   "outputs": [],
   "source": [
    "# Guardar dataframe \n",
    "df_clifd.to_csv('/Users/adrianamedrano/Documents/Ariana/Residencias/PrototipoResidencias/DataSets_Codigo/Mer_Clifd.txt', index=False, encoding=\"latin1\")"
   ]
  }
 ],
 "metadata": {
  "kernelspec": {
   "display_name": "Python (base)",
   "language": "python",
   "name": "base"
  },
  "language_info": {
   "codemirror_mode": {
    "name": "ipython",
    "version": 3
   },
   "file_extension": ".py",
   "mimetype": "text/x-python",
   "name": "python",
   "nbconvert_exporter": "python",
   "pygments_lexer": "ipython3",
   "version": "3.9.16"
  },
  "orig_nbformat": 4
 },
 "nbformat": 4,
 "nbformat_minor": 2
}
