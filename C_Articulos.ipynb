{
 "cells": [
  {
   "cell_type": "code",
   "execution_count": 1,
   "id": "626de072",
   "metadata": {},
   "outputs": [],
   "source": [
    "# Importar librerías\n",
    "import pandas as pd\n",
    "import os\n",
    "\n",
    "# Establecer directorio de trabajo \n",
    "os.chdir(\"/Users/adrianamedrano/Documents/Ariana/Residencias/PrototipoResidencias/DataSets\")\n",
    "\n",
    "# Leer archivo CSV de artículos\n",
    "df_articulos = pd.read_csv(\"Articulos.txt\", encoding=\"latin1\")\n",
    "\n",
    "# Convertir columnas de fecha a datetime\n",
    "df_articulos['FecUltCom'] = pd.to_datetime(df_articulos['FecUltCom'], format=\"%d/%m/%y\")\n",
    "\n",
    "# Separar fecha última compra en día, mes y año\n",
    "df_articulos.insert(df_articulos.columns.get_loc('FecUltCom') + 1, 'FUCDia', df_articulos['FecUltCom'].dt.day)  \n",
    "df_articulos.insert(df_articulos.columns.get_loc('FUCDia') + 1, 'FUCMes', df_articulos['FecUltCom'].dt.month)\n",
    "df_articulos.insert(df_articulos.columns.get_loc('FUCMes') + 1, 'FUCAño', df_articulos['FecUltCom'].dt.year)\n",
    "\n",
    "# Convertir fecha última compra a string \n",
    "df_articulos[\"FecUltCom\"] = df_articulos[\"FecUltCom\"].dt.strftime(\"%d/%m/%y\")\n",
    "\n",
    "# Repetir proceso para fecha última venta \n",
    "df_articulos['FecUltven'] = pd.to_datetime(df_articulos['FecUltven'], format=\"%d/%m/%y\")\n",
    "\n",
    "df_articulos.insert(df_articulos.columns.get_loc('FecUltven') + 1, 'FUvDia', df_articulos['FecUltven'].dt.day)\n",
    "df_articulos.insert(df_articulos.columns.get_loc('FUvDia') + 1, 'FUvMes', df_articulos['FecUltven'].dt.month) \n",
    "df_articulos.insert(df_articulos.columns.get_loc('FUvMes') + 1, 'FUvAño', df_articulos['FecUltven'].dt.year)\n",
    "\n",
    "df_articulos[\"FecUltven\"] = df_articulos[\"FecUltven\"].dt.strftime(\"%d/%m/%y\")"
   ]
  },
  {
   "cell_type": "code",
   "execution_count": 2,
   "id": "eb58b2d0",
   "metadata": {},
   "outputs": [],
   "source": [
    "# Guardar archivo CSV\n",
    "df_articulos.to_csv('/Users/adrianamedrano/Documents/Ariana/Residencias/PrototipoResidencias/DataSets_Codigo/Articulos.txt', index=False, encoding=\"latin1\")"
   ]
  }
 ],
 "metadata": {
  "kernelspec": {
   "display_name": "Python (base)",
   "language": "python",
   "name": "base"
  },
  "language_info": {
   "codemirror_mode": {
    "name": "ipython",
    "version": 3
   },
   "file_extension": ".py",
   "mimetype": "text/x-python",
   "name": "python",
   "nbconvert_exporter": "python",
   "pygments_lexer": "ipython3",
   "version": "3.9.16"
  }
 },
 "nbformat": 4,
 "nbformat_minor": 5
}
