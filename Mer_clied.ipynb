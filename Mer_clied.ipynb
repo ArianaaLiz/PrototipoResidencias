{
 "cells": [
  {
   "cell_type": "code",
   "execution_count": 6,
   "metadata": {},
   "outputs": [
    {
     "name": "stdout",
     "output_type": "stream",
     "text": [
      "            Claart   Fecncre   Cant  Clacli  Clatipcli\n",
      "0      04HBISPR100  31/08/20    8.0  RODH66          6\n",
      "1          0614687  31/08/20    1.0  RODH66          6\n",
      "2          06GAR20  31/08/20    4.0  RODH66          6\n",
      "3          0624069  31/08/20    1.0  RODH66          6\n",
      "4        04HPPB141  31/08/20  100.0  RODH66          6\n",
      "...            ...       ...    ...     ...        ...\n",
      "16002      01BLO15  01/04/24   25.0   MRS19          3\n",
      "16003   01CEMCAZ50  01/11/24   25.0   MOHF8          0\n",
      "16004    05TUBPL34  17/01/24   20.0   MOHF8          0\n",
      "16005    01BAB1030  14/02/24  400.0   MOHF8          0\n",
      "16006   01CEMCAZ50  27/02/24   15.0   MOHF8          0\n",
      "\n",
      "[14877 rows x 5 columns]\n"
     ]
    }
   ],
   "source": [
    "# Importar librerías\n",
    "import pandas as pd\n",
    "import os\n",
    "\n",
    "# Establecer directorio de trabajo\n",
    "os.chdir(\"/Users/adrianamedrano/Documents/Ariana/Residencias/PrototipoResidencias/DataSets\")\n",
    "\n",
    "# Leer archivos CSV\n",
    "df_clie = pd.read_csv('clie.txt', encoding='latin1')\n",
    "df_clied = pd.read_csv('clied.txt', encoding='latin1')\n",
    "df_clientes = pd.read_csv('Clientes.txt', encoding=\"latin1\")\n",
    "\n",
    "# Mergear dataframes por campo Nummov \n",
    "df_clied = pd.merge(df_clied, df_clie[['Nummov','Fecncre','Estado', 'Clacli']],\n",
    "                    on='Nummov', \n",
    "                    how='left',\n",
    "                    suffixes=('','_clie'))\n",
    "\n",
    "# Mergear con el dataframe df_clientes por campo Clacli\n",
    "df_clied = pd.merge(df_clied, df_clientes[['Clacli', 'Clatipcli']],\n",
    "                    left_on='Clacli',\n",
    "                    right_on='Clacli',\n",
    "                    how='left')\n",
    "\n",
    "# Filtrar por Estado = 'yes'\n",
    "df_clied = df_clied[df_clied['Estado_clie'] == 'yes'][['Claart', 'Fecncre', 'Cant', 'Clacli', 'Clatipcli']]\n",
    "df_clied\n",
    "\n",
    "#Cambiar el fromato de fecha a DD-MM-AAAA\n",
    "df_clied['Fecncre'] = pd.to_datetime(df_clied['Fecncre'], errors='coerce')\n",
    "df_clied[\"Fecncre\"] = df_clied[\"Fecncre\"].dt.strftime(\"%d/%m/%y\")\n",
    "print(df_clied)"
   ]
  },
  {
   "cell_type": "code",
   "execution_count": 2,
   "metadata": {},
   "outputs": [],
   "source": [
    "#condicion = df_clied['Clatipcli'].isin([4, 5, 8])\n",
    "#registros_eliminados = df_clied[condicion].copy()\n",
    "#df_clied = df_clied[~condicion] \n",
    "#print(\"Registros eliminados:\")\n",
    "#registros_eliminados"
   ]
  },
  {
   "cell_type": "code",
   "execution_count": 3,
   "metadata": {},
   "outputs": [],
   "source": [
    "# Guardar dataframe \n",
    "df_clied.to_csv('/Users/adrianamedrano/Documents/Ariana/Residencias/PrototipoResidencias/DataSets_Codigo//Mer_clied.txt', index=False, encoding=\"latin1\")"
   ]
  }
 ],
 "metadata": {
  "kernelspec": {
   "display_name": "Python (base)",
   "language": "python",
   "name": "base"
  },
  "language_info": {
   "codemirror_mode": {
    "name": "ipython",
    "version": 3
   },
   "file_extension": ".py",
   "mimetype": "text/x-python",
   "name": "python",
   "nbconvert_exporter": "python",
   "pygments_lexer": "ipython3",
   "version": "3.9.16"
  },
  "orig_nbformat": 4
 },
 "nbformat": 4,
 "nbformat_minor": 2
}
