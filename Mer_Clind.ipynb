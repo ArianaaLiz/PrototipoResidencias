{
 "cells": [
  {
   "cell_type": "code",
   "execution_count": 1,
   "metadata": {},
   "outputs": [
    {
     "name": "stdout",
     "output_type": "stream",
     "text": [
      "          Claart   Fecncre   Cant     Clacli  Clatipcli    Numfac\n",
      "0      03PERC050  31/08/20    2.8    MRS2043          0  ZI030414\n",
      "1       03VCUA12  31/08/20   15.6    MRS2043          0  ZI030414\n",
      "2       04HBISL3  31/08/20    6.0    MRS2043          0  ZI030414\n",
      "3       06PIJ834  31/08/20  200.0    MRS2043          0  ZI030414\n",
      "4     01CEMCAZ50  04/07/16  300.0      API14          0  ZI000060\n",
      "...          ...       ...    ...        ...        ...       ...\n",
      "4594  05LLAEROSR  17/02/24    2.0  MRSZI0025          0  ZI105319\n",
      "4595   01EST1515  17/02/24   34.0     PUBGEN          0  ZI105398\n",
      "4596        01TB  19/02/24   12.0    MRS1583          0  ZI100737\n",
      "4597   03PP30018  20/02/24   28.0  MRSZI0025          0  ZI105407\n",
      "4598   03ANG3161  20/02/24   16.5     MRS106          3  ZI104956\n",
      "\n",
      "[4523 rows x 6 columns]\n"
     ]
    }
   ],
   "source": [
    "# Importar librerías\n",
    "import pandas as pd\n",
    "import os\n",
    "\n",
    "# Establecer directorio de trabajo\n",
    "os.chdir(\"/Users/adrianamedrano/Documents/Ariana/Residencias/PrototipoResidencias/DataSets\")\n",
    "\n",
    "# Leer archivos CSV\n",
    "df_clin = pd.read_csv('Clin.txt', encoding='latin1')\n",
    "df_clind = pd.read_csv('Clind.txt', encoding='latin1')\n",
    "df_articulos = pd.read_csv('Articulos.txt', encoding='latin1')\n",
    "df_clientes = pd.read_csv('Clientes.txt', encoding=\"latin1\")\n",
    "\n",
    "# Mergear dataframes por campo Nummov \n",
    "df_clind = pd.merge(df_clind, df_clin[['Nncre','Fecncre','Estado', 'Clacli']],\n",
    "                    on='Nncre', \n",
    "                    how='left',\n",
    "                    suffixes=('','_Clin'))\n",
    "\n",
    "# Mergear con el dataframe df_clientes por campo Clacli\n",
    "df_clind = pd.merge(df_clind, df_clientes[['Clacli', 'Clatipcli']],\n",
    "                    left_on='Clacli',\n",
    "                    right_on='Clacli',\n",
    "                    how='left')\n",
    "\n",
    "# Filtrar por Estado = 'yes'\n",
    "df_clind = df_clind[df_clind['Estado_Clin'] == 'yes'][['Claart', 'Fecncre', 'Cant', 'Clacli', 'Clatipcli','Numfac']]\n",
    "df_clind\n",
    "\n",
    "#Cambiar el fromato de fecha a DD-MM-AAAA\n",
    "df_clind['Fecncre'] = pd.to_datetime(df_clind['Fecncre'], errors='coerce')\n",
    "df_clind[\"Fecncre\"] = df_clind[\"Fecncre\"].dt.strftime(\"%d/%m/%y\")\n",
    "print(df_clind)"
   ]
  },
  {
   "cell_type": "code",
   "execution_count": 2,
   "metadata": {},
   "outputs": [],
   "source": [
    "#condicion = df_clind['Clatipcli'].isin([4, 5, 8])\n",
    "#registros_eliminados = df_clind[condicion].copy()\n",
    "#df_clind = df_clind[~condicion] \n",
    "#print(\"Registros eliminados:\")\n",
    "#registros_eliminados"
   ]
  },
  {
   "cell_type": "code",
   "execution_count": 2,
   "metadata": {},
   "outputs": [],
   "source": [
    "# Guardar dataframe\n",
    "df_clind.to_csv('/Users/adrianamedrano/Documents/Ariana/Residencias/PrototipoResidencias/DataSets_Codigo/Mer_Clind.txt', index=False, encoding=\"latin1\")"
   ]
  }
 ],
 "metadata": {
  "kernelspec": {
   "display_name": "Python (base)",
   "language": "python",
   "name": "base"
  },
  "language_info": {
   "codemirror_mode": {
    "name": "ipython",
    "version": 3
   },
   "file_extension": ".py",
   "mimetype": "text/x-python",
   "name": "python",
   "nbconvert_exporter": "python",
   "pygments_lexer": "ipython3",
   "version": "3.9.16"
  }
 },
 "nbformat": 4,
 "nbformat_minor": 2
}
