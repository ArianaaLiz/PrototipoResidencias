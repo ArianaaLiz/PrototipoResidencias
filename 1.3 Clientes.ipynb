{
 "cells": [
  {
   "cell_type": "code",
   "execution_count": 1,
   "metadata": {},
   "outputs": [],
   "source": [
    "# Importar librerías\n",
    "import pandas as pd \n",
    "import os\n",
    "\n",
    "# Establecer directorio de trabajo  \n",
    "os.chdir(\"/Users/adrianamedrano/Documents/Ariana/Residencias/PrototipoResidencias/DataSets\")\n",
    "\n",
    "# Leer archivos CSV\n",
    "df_clientes = pd.read_csv(\"Clientes.txt\", encoding=\"latin1\")\n",
    "df_clif = pd.read_csv(\"Clif.txt\", encoding=\"latin1\", dtype={20: str, 34: str, 35: str, 37: str, 39: str})\n",
    "\n",
    "# Unir dataframes por clave de cliente\n",
    "df_merge = df_clientes.merge(df_clif, on=\"Clacli\", how=\"left\") \n",
    "\n",
    "# Obtener fecha máxima de factura por cliente\n",
    "df_fecha_max = df_merge.groupby(\"Clacli\")[\"Fecfac\"].max().reset_index()\n",
    "\n",
    "# Establecer índices para unir por clave\n",
    "df_clientes = df_clientes.set_index(\"Clacli\")\n",
    "df_fecha_max = df_fecha_max.set_index(\"Clacli\")\n",
    "\n",
    "# Llenar fecha última venta con fecha máxima de factura  \n",
    "df_clientes[\"Fecultven\"] = df_clientes[\"Fecultven\"].fillna(df_fecha_max[\"Fecfac\"])\n",
    "\n",
    "# Reestablecer índice como columna\n",
    "df_clientes = df_clientes.reset_index() \n",
    "\n",
    "# Eliminar filas con fecha de última venta nula\n",
    "df_clientes = df_clientes.dropna(subset=[\"Fecultven\"])"
   ]
  },
  {
   "cell_type": "code",
   "execution_count": 2,
   "metadata": {},
   "outputs": [],
   "source": [
    "# Guardar dataframe\n",
    "df_clientes.to_csv('/Users/adrianamedrano/Documents/Ariana/Residencias/PrototipoResidencias/DataSets_Codigo/Clientes.txt', index=False, encoding=\"latin1\")"
   ]
  }
 ],
 "metadata": {
  "kernelspec": {
   "display_name": "Python (base)",
   "language": "python",
   "name": "base"
  },
  "language_info": {
   "codemirror_mode": {
    "name": "ipython",
    "version": 3
   },
   "file_extension": ".py",
   "mimetype": "text/x-python",
   "name": "python",
   "nbconvert_exporter": "python",
   "pygments_lexer": "ipython3",
   "version": "3.9.16"
  },
  "orig_nbformat": 4
 },
 "nbformat": 4,
 "nbformat_minor": 2
}
